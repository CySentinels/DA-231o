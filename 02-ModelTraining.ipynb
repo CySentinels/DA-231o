{
  "nbformat": 4,
  "nbformat_minor": 0,
  "metadata": {
    "colab": {
      "provenance": []
    },
    "kernelspec": {
      "name": "python3",
      "display_name": "Python 3"
    },
    "language_info": {
      "name": "python"
    }
  },
  "cells": [
    {
      "cell_type": "markdown",
      "source": [
        "##Model Training"
      ],
      "metadata": {
        "id": "2rEKjvesnokA"
      }
    },
    {
      "cell_type": "markdown",
      "source": [
        "**Mounting Google Drive in Google Colab**\n",
        "\n",
        "Google Drive to the Colab environment, enabling access to files stored in Drive\n"
      ],
      "metadata": {
        "id": "dHNOHq2EmWsj"
      }
    },
    {
      "cell_type": "code",
      "execution_count": 1,
      "metadata": {
        "colab": {
          "base_uri": "https://localhost:8080/"
        },
        "id": "fCsS6q-tULYz",
        "outputId": "af40aa7e-a85a-4e26-c124-5ca02cb5e61e"
      },
      "outputs": [
        {
          "output_type": "stream",
          "name": "stdout",
          "text": [
            "Mounted at /content/drive\n"
          ]
        }
      ],
      "source": [
        "from google.colab import drive\n",
        "drive.mount('/content/drive')"
      ]
    },
    {
      "cell_type": "markdown",
      "source": [
        "**Setting Up Apache Spark in Google Colab**\n",
        "\n",
        "This code installs OpenJDK 8, sets up Apache Spark by extracting it from the specified Google Drive location, and installs the necessary Python libraries (findspark and pyspark) for Spark integration. It also sets environment variables for Java and Spark paths to enable Spark execution in the Colab environment."
      ],
      "metadata": {
        "id": "9n2uSUrUnFke"
      }
    },
    {
      "cell_type": "code",
      "source": [
        "!ls /content/drive/MyDrive/DESProject/SparkData/spark-3.5.3-bin-hadoop3.tgz\n",
        "!apt-get install openjdk-8-jdk-headless -qq > /dev/null\n",
        "!tar xf /content/drive/MyDrive/DESProject/SparkData/spark-3.5.3-bin-hadoop3.tgz\n",
        "!pip install -q findspark\n",
        "!pip install -q pyspark\n",
        "import os\n",
        "os.environ[\"JAVA_HOME\"] = \"/usr/lib/jvm/java-8-openjdk-amd64\"\n",
        "os.environ[\"SPARK_HOME\"] = \"/content/spark-3.5.3-bin-hadoop3\""
      ],
      "metadata": {
        "colab": {
          "base_uri": "https://localhost:8080/"
        },
        "id": "KPXTx98JUR2O",
        "outputId": "d7d7bfa6-bb6c-4502-a863-be5648c775ae"
      },
      "execution_count": 2,
      "outputs": [
        {
          "output_type": "stream",
          "name": "stdout",
          "text": [
            "/content/drive/MyDrive/DESProject/SparkData/spark-3.5.3-bin-hadoop3.tgz\n"
          ]
        }
      ]
    },
    {
      "cell_type": "markdown",
      "source": [
        "**Linking Google Drive Files to a Local Directory**"
      ],
      "metadata": {
        "id": "YXTBUCf9oHew"
      }
    },
    {
      "cell_type": "code",
      "source": [
        "!mkdir /content/data\n",
        "!ln -s /content/drive/MyDrive/DESProject/* /content/data/"
      ],
      "metadata": {
        "id": "OfdhnxK2UU-u"
      },
      "execution_count": 3,
      "outputs": []
    },
    {
      "cell_type": "markdown",
      "source": [
        "**Initializing PySpark in Google Colab**\n",
        "\n",
        "This code initializes the findspark library, starts a Spark session with a specified configuration, and sets up PySpark to run locally in Google Colab."
      ],
      "metadata": {
        "id": "LaKzpTW7oNpf"
      }
    },
    {
      "cell_type": "code",
      "source": [
        "#######################################\n",
        "###!@ START OF PYSPARK INIT\n",
        "import findspark\n",
        "findspark.init()\n",
        "findspark.find()\n",
        "from pyspark.sql import SparkSession\n",
        "input_type = 'sample'\n",
        "spark = SparkSession.builder\\\n",
        "         .master(\"local\")\\\n",
        "         .appName(\"Colab\")\\\n",
        "         .config('spark.ui.port', '4050')\\\n",
        "         .getOrCreate()\n",
        "# Spark is ready to go within Colab!\n",
        "###!@ END OF PYSPARK INIT"
      ],
      "metadata": {
        "id": "IQafEy07UYPP"
      },
      "execution_count": 4,
      "outputs": []
    },
    {
      "cell_type": "markdown",
      "source": [
        "**Loading CSV Data into Spark DataFrame**\n",
        "\n",
        "This reads a CSV file from the specified path into a Spark DataFrame, inferring the schema and using the first row as column headers."
      ],
      "metadata": {
        "id": "80gQSW0KohOm"
      }
    },
    {
      "cell_type": "code",
      "source": [
        "df = spark.read.csv(\"/content/data/Phishing_URL_Dataset.csv\", header=True, inferSchema=True)"
      ],
      "metadata": {
        "id": "a-n9_IfOUemA"
      },
      "execution_count": 59,
      "outputs": []
    },
    {
      "cell_type": "markdown",
      "source": [
        "**Base Imports for PySpark ML Pipeline**"
      ],
      "metadata": {
        "id": "cyGveFtspHad"
      }
    },
    {
      "cell_type": "code",
      "source": [
        "#######################################\n",
        "###!@START BASE IMPORTS\n",
        "from pyspark.ml import Pipeline\n",
        "from pyspark.ml.evaluation import Evaluator\n",
        "from pyspark.sql.types import *\n",
        "from pyspark.sql.functions import col, abs\n",
        "import pyspark.sql.functions as F\n",
        "from pyspark.sql.window import Window as W\n",
        "from pyspark.ml.feature import *\n",
        "from pyspark.ml.linalg import Vectors, VectorUDT\n",
        "import time\n",
        "\n",
        "from pyspark.ml.evaluation import MulticlassClassificationEvaluator\n",
        "\n",
        "from pyspark.ml.classification import RandomForestClassifier, DecisionTreeClassifier, NaiveBayes, LinearSVC\n",
        "from pyspark.ml.tuning import ParamGridBuilder, CrossValidator\n",
        "from pyspark.ml.classification import RandomForestClassificationModel\n",
        "\n",
        "import numpy as np\n",
        "import matplotlib.pyplot as plt\n",
        "import seaborn as sns\n",
        "\n",
        "###!@END BASE IMPORTS"
      ],
      "metadata": {
        "id": "QszB4G5nUr5X"
      },
      "execution_count": 60,
      "outputs": []
    },
    {
      "cell_type": "markdown",
      "source": [
        "**Selected Features for Phishing URL Classification**\n",
        "\n",
        "This list includes the top 10 features selected based on extensive experimentation and performance evaluation, showing high accuracy and optimal results in the phishing URL classification model."
      ],
      "metadata": {
        "id": "L9BHnOvUpL73"
      }
    },
    {
      "cell_type": "code",
      "source": [
        "selected_features = [\n",
        "    \"URLSimilarityIndex\",\n",
        "\"LineOfCode\",\n",
        "\"NoOfExternalRef\",\n",
        "\"NoOfSelfRef\",\n",
        "\"NoOfCSS\",\n",
        "\"NoOfImage\",\n",
        "\"HasSocialNet\",\n",
        "\"HasCopyrightInfo\",\n",
        "\"HasDescription\",\n",
        "\"NoOfJS\"\n",
        "]"
      ],
      "metadata": {
        "id": "1eAU-0OMWaNr"
      },
      "execution_count": 61,
      "outputs": []
    },
    {
      "cell_type": "markdown",
      "source": [
        "**Defining Feature and Target Columns for Model Training**\n",
        "\n",
        "This code selects the previously identified features for model training and defines the target column (label) to be predicted, preparing the dataset for further processing and model building."
      ],
      "metadata": {
        "id": "JaFEtovqqIDv"
      }
    },
    {
      "cell_type": "code",
      "source": [
        "# Select only selected features\n",
        "feature_columns = selected_features\n",
        "\n",
        "# Define target column\n",
        "target_column = 'label'\n",
        "\n",
        "print(\"Features:\", feature_columns)\n",
        "print(\"Target:\", target_column)"
      ],
      "metadata": {
        "colab": {
          "base_uri": "https://localhost:8080/"
        },
        "id": "22IPeC5fUtO7",
        "outputId": "bd010218-e342-4f79-f73c-f7dc74d28776"
      },
      "execution_count": 62,
      "outputs": [
        {
          "output_type": "stream",
          "name": "stdout",
          "text": [
            "Features: ['URLSimilarityIndex', 'LineOfCode', 'NoOfExternalRef', 'NoOfSelfRef', 'NoOfCSS', 'NoOfImage', 'HasSocialNet', 'HasCopyrightInfo', 'HasDescription', 'NoOfJS']\n",
            "Target: label\n"
          ]
        }
      ]
    },
    {
      "cell_type": "markdown",
      "source": [
        "**Assembling Features and Transforming Dataset**\n",
        "\n",
        "This uses VectorAssembler to combine the selected feature columns into a single 'features' column, then transforms the dataset to include this new column alongside the target column (label)."
      ],
      "metadata": {
        "id": "CU29_aKbqm2v"
      }
    },
    {
      "cell_type": "code",
      "source": [
        "assembler = VectorAssembler(inputCols=feature_columns, outputCol='features')\n",
        "\n",
        "# Transform the dataset\n",
        "df = assembler.transform(df)\n",
        "\n",
        "# View the dataset with features and target\n",
        "df.select('features', target_column).show(5)\n"
      ],
      "metadata": {
        "colab": {
          "base_uri": "https://localhost:8080/"
        },
        "id": "rcEBnZ0OV1HK",
        "outputId": "7fb2cd40-64dc-4e16-b880-bc43c35356f2"
      },
      "execution_count": 63,
      "outputs": [
        {
          "output_type": "stream",
          "name": "stdout",
          "text": [
            "+--------------------+-----+\n",
            "|            features|label|\n",
            "+--------------------+-----+\n",
            "|[100.0,558.0,124....|    1|\n",
            "|[100.0,618.0,217....|    1|\n",
            "|[100.0,467.0,5.0,...|    1|\n",
            "|[100.0,6356.0,31....|    1|\n",
            "|[100.0,6089.0,85....|    1|\n",
            "+--------------------+-----+\n",
            "only showing top 5 rows\n",
            "\n"
          ]
        }
      ]
    },
    {
      "cell_type": "markdown",
      "source": [
        "**Splitting the Data into Training and Testing Sets**\n",
        "\n",
        "This splits the dataset into 80% training data and 20% testing data using a random split, then prints the number of records in each subset to ensure proper data distribution"
      ],
      "metadata": {
        "id": "fPWqz26VrSBu"
      }
    },
    {
      "cell_type": "code",
      "source": [
        "# Splitting the data into 80% training and 20% testing\n",
        "train_data, test_data = df.randomSplit([0.8, 0.2], seed=1947)\n",
        "\n",
        "# Print the number of records in each set\n",
        "print(f\"Training Data Count: {train_data.count()}\")\n",
        "print(f\"Testing Data Count: {test_data.count()}\")\n"
      ],
      "metadata": {
        "colab": {
          "base_uri": "https://localhost:8080/"
        },
        "id": "RLznwV1wV6mC",
        "outputId": "f15d79dc-9f39-49ee-8b12-3d79893a0872"
      },
      "execution_count": 64,
      "outputs": [
        {
          "output_type": "stream",
          "name": "stdout",
          "text": [
            "Training Data Count: 188572\n",
            "Testing Data Count: 47223\n"
          ]
        }
      ]
    },
    {
      "cell_type": "markdown",
      "source": [
        "**Label Distribution in Training and Testing Sets**\n",
        "\n",
        "This code groups the training and testing datasets by the label column and counts the number of instances in each label category, displaying the distribution of labels in both sets to check for balance or imbalance."
      ],
      "metadata": {
        "id": "Vtbyql-urlcm"
      }
    },
    {
      "cell_type": "code",
      "source": [
        "# distribution of the label in the training set\n",
        "train_data.groupBy(\"label\").count().show()\n",
        "\n",
        "# distribution of the label in the testing set\n",
        "test_data.groupBy(\"label\").count().show()\n"
      ],
      "metadata": {
        "colab": {
          "base_uri": "https://localhost:8080/"
        },
        "id": "i6y_csFPWESB",
        "outputId": "849681c5-de58-44d9-8f43-8294911e677f"
      },
      "execution_count": 65,
      "outputs": [
        {
          "output_type": "stream",
          "name": "stdout",
          "text": [
            "+-----+------+\n",
            "|label| count|\n",
            "+-----+------+\n",
            "|    1|107714|\n",
            "|    0| 80858|\n",
            "+-----+------+\n",
            "\n",
            "+-----+-----+\n",
            "|label|count|\n",
            "+-----+-----+\n",
            "|    1|27136|\n",
            "|    0|20087|\n",
            "+-----+-----+\n",
            "\n"
          ]
        }
      ]
    },
    {
      "cell_type": "markdown",
      "source": [
        "**We will evaluate four classification models: Random Forest, Decision Tree, SVM, and Naive Bayes. Each model will be tuned using hyperparameters and cross-validation to optimize performance. The models will be compared using performance metrics such as accuracy, precision, recall, and F1 score. Based on these metrics, the best-performing model will be identified.**"
      ],
      "metadata": {
        "id": "imH5o1xDzkPu"
      }
    },
    {
      "cell_type": "markdown",
      "source": [
        "**Defining Evaluation Metric for Classification Model**\n",
        "\n",
        "Defines a MulticlassClassificationEvaluator to evaluate the accuracy of the model by comparing the predicted labels (prediction) with the actual labels (label) in the dataset."
      ],
      "metadata": {
        "id": "ktrzMPVRtVTP"
      }
    },
    {
      "cell_type": "code",
      "source": [
        "evaluator = MulticlassClassificationEvaluator(labelCol=\"label\", predictionCol=\"prediction\", metricName=\"accuracy\")\n"
      ],
      "metadata": {
        "id": "kzDzhVU1r5uV"
      },
      "execution_count": 66,
      "outputs": []
    },
    {
      "cell_type": "markdown",
      "source": [
        "**Defining Random Forest Classifier Model**\n",
        "\n",
        "This defines a RandomForestClassifier in PySpark, specifying the columns for the label (label) and the features (features) to be used in training the model."
      ],
      "metadata": {
        "id": "7ER6gwmgt3UQ"
      }
    },
    {
      "cell_type": "code",
      "source": [
        "rf = RandomForestClassifier(labelCol=\"label\", featuresCol=\"features\")"
      ],
      "metadata": {
        "id": "ioeRvJLVt2P-"
      },
      "execution_count": 67,
      "outputs": []
    },
    {
      "cell_type": "markdown",
      "source": [
        "**Defining Hyperparameter Grid for Random Forest**\n",
        "\n",
        "This creates a parameter grid using ParamGridBuilder to tune the Random Forest classifier's hyperparameters, specifically numTrees (number of trees) and maxDepth (maximum depth of the trees), with specified values for each."
      ],
      "metadata": {
        "id": "3pyvyz6SuNYV"
      }
    },
    {
      "cell_type": "code",
      "source": [
        "paramGrid = ParamGridBuilder() \\\n",
        "    .addGrid(rf.numTrees, [50, 100]) \\\n",
        "    .addGrid(rf.maxDepth, [5, 10]) \\\n",
        "    .build()\n"
      ],
      "metadata": {
        "id": "UFCC_4wmuWfO"
      },
      "execution_count": 68,
      "outputs": []
    },
    {
      "cell_type": "markdown",
      "source": [
        "**Setting Up Cross-Validation for Random Forest**\n",
        "\n",
        "Below code sets up a CrossValidator to perform hyperparameter tuning for the Random Forest classifier. It uses the defined parameter grid (paramGrid), evaluator (evaluator), and 3-fold cross-validation to select the best model."
      ],
      "metadata": {
        "id": "YApLFh_Mui_l"
      }
    },
    {
      "cell_type": "code",
      "source": [
        "rf_cv = CrossValidator(estimator=rf, estimatorParamMaps=paramGrid, evaluator=evaluator, numFolds=3)"
      ],
      "metadata": {
        "id": "r_LHKu3AuyTf"
      },
      "execution_count": 69,
      "outputs": []
    },
    {
      "cell_type": "markdown",
      "source": [
        "**Training, Testing, and Evaluating the Random Forest Model**\n",
        "\n",
        "This code trains a Random Forest model using cross-validation, tests it on the test data, evaluates the accuracy, and prints the best hyperparameters. It also tracks the duration of the training and testing process, displaying the time taken in seconds along with the results."
      ],
      "metadata": {
        "id": "ihKT969ivLca"
      }
    },
    {
      "cell_type": "code",
      "source": [
        "# Record start time for training\n",
        "train_start_time = time.time()\n",
        "\n",
        "# Train model\n",
        "rf_cv_model = rf_cv.fit(train_data)\n",
        "\n",
        "# Record end time for training\n",
        "train_end_time = time.time()\n",
        "train_duration = train_end_time - train_start_time\n",
        "print(f\"Training Duration: {train_duration:.2f} seconds\")\n",
        "# Record start time for testing\n",
        "test_start_time = time.time()\n",
        "\n",
        "# Test model\n",
        "rf_predictions = rf_cv_model.bestModel.transform(test_data)\n",
        "rf_accuracy = evaluator.evaluate(rf_predictions)\n",
        "\n",
        "# Record end time for testing\n",
        "test_end_time = time.time()\n",
        "test_duration = test_end_time - test_start_time\n",
        "print(f\"Testing Duration: {test_duration:.2f} seconds\")\n",
        "# Output results\n",
        "print(f\"Random Forest Accuracy: {rf_accuracy:.4f}\")\n",
        "print(f\"Best Hyperparameters: \")\n",
        "best_params = rf_cv_model.bestModel.extractParamMap()\n",
        "for param, value in best_params.items():\n",
        "    print(f\"{param.name}: {value}\")\n"
      ],
      "metadata": {
        "colab": {
          "base_uri": "https://localhost:8080/"
        },
        "id": "trbMT8gidiG6",
        "outputId": "6702fcac-b5e2-4aa7-8837-4955f55d7db9"
      },
      "execution_count": 70,
      "outputs": [
        {
          "output_type": "stream",
          "name": "stdout",
          "text": [
            "Training Duration: 380.07 seconds\n",
            "Testing Duration: 7.02 seconds\n",
            "Random Forest Accuracy: 1.0000\n",
            "Best Hyperparameters: \n",
            "bootstrap: True\n",
            "cacheNodeIds: False\n",
            "checkpointInterval: 10\n",
            "featureSubsetStrategy: auto\n",
            "featuresCol: features\n",
            "impurity: gini\n",
            "labelCol: label\n",
            "leafCol: \n",
            "maxBins: 32\n",
            "maxDepth: 10\n",
            "maxMemoryInMB: 256\n",
            "minInfoGain: 0.0\n",
            "minInstancesPerNode: 1\n",
            "minWeightFractionPerNode: 0.0\n",
            "numTrees: 50\n",
            "predictionCol: prediction\n",
            "probabilityCol: probability\n",
            "rawPredictionCol: rawPrediction\n",
            "seed: 7698096425215377372\n",
            "subsamplingRate: 1.0\n"
          ]
        }
      ]
    },
    {
      "cell_type": "markdown",
      "source": [
        "**Defining Decision Tree Model**\n",
        "\n",
        " This defines a Decision Tree model in PySpark using the DecisionTreeClassifier class, with the target variable (label) and feature vector (features) specified for classification tasks."
      ],
      "metadata": {
        "id": "NCHMD6N1ITIK"
      }
    },
    {
      "cell_type": "code",
      "source": [
        "dt = DecisionTreeClassifier(labelCol=\"label\", featuresCol=\"features\")"
      ],
      "metadata": {
        "id": "LDQdzwfX0cXV"
      },
      "execution_count": 71,
      "outputs": []
    },
    {
      "cell_type": "markdown",
      "source": [
        "**Defining Hyperparameter Grid for Decision Tree Model**\n",
        "\n",
        "This creates a parameter grid for hyperparameter tuning of the Decision Tree model, testing different values for maxDepth and minInstancesPerNode using ParamGridBuilder. This helps optimize the model during cross-validation\n"
      ],
      "metadata": {
        "id": "nkiyTdLPJV0p"
      }
    },
    {
      "cell_type": "code",
      "source": [
        "paramGrid = ParamGridBuilder() \\\n",
        "    .addGrid(dt.maxDepth, [5, 10]) \\\n",
        "    .addGrid(dt.minInstancesPerNode, [1, 5]) \\\n",
        "    .build()"
      ],
      "metadata": {
        "id": "hpRQlqtE0fn5"
      },
      "execution_count": 72,
      "outputs": []
    },
    {
      "cell_type": "markdown",
      "source": [
        "**Setting Up Cross-Validation for Decision Tree Model**\n",
        "\n",
        "This sets up a CrossValidator for the Decision Tree model, specifying the parameter grid, evaluator (for accuracy), and number of folds (3) for cross-validation. This allows for hyperparameter optimization and model evaluation."
      ],
      "metadata": {
        "id": "_B47-H9VKJdc"
      }
    },
    {
      "cell_type": "code",
      "source": [
        "dt_cv = CrossValidator(estimator=dt, estimatorParamMaps=paramGrid, evaluator=evaluator, numFolds=3)"
      ],
      "metadata": {
        "id": "NKY--MyC0hqu"
      },
      "execution_count": 73,
      "outputs": []
    },
    {
      "cell_type": "markdown",
      "source": [
        "**Decision Tree Model Trainin , Testing & Evaluating**\n",
        "\n",
        " This code tracks the training and testing durations for a Decision Tree model. It first measures the time taken to train the model using cross-validation, then tests the model and evaluates its accuracy. It also outputs the best hyperparameters identified during training."
      ],
      "metadata": {
        "id": "Cews1aJ-KZen"
      }
    },
    {
      "cell_type": "code",
      "source": [
        "# Start time for training\n",
        "start_train_time = time.time()\n",
        "\n",
        "# Train model\n",
        "dt_cv_model = dt_cv.fit(train_data)\n",
        "\n",
        "# End time for training\n",
        "end_train_time = time.time()\n",
        "train_duration = end_train_time - start_train_time\n",
        "print(f\"Training Duration: {train_duration:.2f} seconds\")\n",
        "# Start time for testing\n",
        "start_test_time = time.time()\n",
        "\n",
        "# Test model\n",
        "dt_predictions = dt_cv_model.bestModel.transform(test_data)\n",
        "dt_accuracy = evaluator.evaluate(dt_predictions)\n",
        "\n",
        "# End time for testing\n",
        "end_test_time = time.time()\n",
        "test_duration = end_test_time - start_test_time\n",
        "print(f\"Testing Duration: {test_duration:.2f} seconds\")\n",
        "# Output result\n",
        "print(f\"Decision Tree Accuracy: {dt_accuracy:.4f}\")\n",
        "print(f\"Best Decision Tree Hyperparameters: \")\n",
        "best_params = dt_cv_model.bestModel.extractParamMap()\n",
        "for param, value in best_params.items():\n",
        "    print(f\"{param.name}: {value}\")\n"
      ],
      "metadata": {
        "colab": {
          "base_uri": "https://localhost:8080/"
        },
        "id": "9MP7ncGEd7aK",
        "outputId": "c3ad411e-117d-4e61-9184-0d705de45f8d"
      },
      "execution_count": 74,
      "outputs": [
        {
          "output_type": "stream",
          "name": "stdout",
          "text": [
            "Training Duration: 102.40 seconds\n",
            "Testing Duration: 6.13 seconds\n",
            "Decision Tree Accuracy: 1.0000\n",
            "Best Decision Tree Hyperparameters: \n",
            "cacheNodeIds: False\n",
            "checkpointInterval: 10\n",
            "featuresCol: features\n",
            "impurity: gini\n",
            "labelCol: label\n",
            "leafCol: \n",
            "maxBins: 32\n",
            "maxDepth: 5\n",
            "maxMemoryInMB: 256\n",
            "minInfoGain: 0.0\n",
            "minInstancesPerNode: 1\n",
            "minWeightFractionPerNode: 0.0\n",
            "predictionCol: prediction\n",
            "probabilityCol: probability\n",
            "rawPredictionCol: rawPrediction\n",
            "seed: 2631112019678092941\n"
          ]
        }
      ]
    },
    {
      "cell_type": "markdown",
      "source": [
        "**Naive Bayes Model Definition**\n",
        "\n",
        "This defines a Naive Bayes model for classification, specifying the target label column as \"label\" and the feature column as \"features\" for training and prediction in a PySpark environment."
      ],
      "metadata": {
        "id": "lFI9vqybKpet"
      }
    },
    {
      "cell_type": "code",
      "source": [
        "nb = NaiveBayes(labelCol=\"label\", featuresCol=\"features\")"
      ],
      "metadata": {
        "id": "3U0C-fRS1H_G"
      },
      "execution_count": 75,
      "outputs": []
    },
    {
      "cell_type": "markdown",
      "source": [
        "**Defining Hyperparameter Grid for Naive Bayes Model**\n",
        "\n",
        "This defines a parameter grid for tuning the Naive Bayes model, specifically focusing on the smoothing parameter, with values 0.5, 1.0, and 2.0, using PySpark's ParamGridBuilder for hyperparameter tuning."
      ],
      "metadata": {
        "id": "vsAz1uRQK547"
      }
    },
    {
      "cell_type": "code",
      "source": [
        "paramGrid = ParamGridBuilder() \\\n",
        "    .addGrid(nb.smoothing, [0.5, 1.0, 2.0]) \\\n",
        "    .build()"
      ],
      "metadata": {
        "id": "-G_me1zz1L-2"
      },
      "execution_count": 76,
      "outputs": []
    },
    {
      "cell_type": "markdown",
      "source": [
        "**Setting Up Cross-Validation for Naive Bayes Model**\n",
        "\n",
        "This code sets up a cross-validation process for the Naive Bayes model using PySpark's CrossValidator. The parameter grid is passed to tune hyperparameters, and the evaluation is done using 3-fold cross-validation."
      ],
      "metadata": {
        "id": "MQGGTAxDLhvq"
      }
    },
    {
      "cell_type": "code",
      "source": [
        "nb_cv = CrossValidator(estimator=nb, estimatorParamMaps=paramGrid, evaluator=evaluator, numFolds=3)"
      ],
      "metadata": {
        "id": "9i2mBvZo1OkF"
      },
      "execution_count": 77,
      "outputs": []
    },
    {
      "cell_type": "markdown",
      "source": [
        "**Training, Testing, and Evaluating the Naive Bayes Model**\n",
        "\n",
        "This code trains a Naive Bayes model using cross-validation, tests it on the test data, evaluates the accuracy, and prints the best hyperparameters. It also tracks the duration of the training and testing process, displaying the time taken in seconds along with the results."
      ],
      "metadata": {
        "id": "iIE9-sRXLxgh"
      }
    },
    {
      "cell_type": "code",
      "source": [
        "# Start time for training\n",
        "start_train_time = time.time()\n",
        "\n",
        "# Train model\n",
        "nb_cv_model = nb_cv.fit(train_data)\n",
        "\n",
        "# End time for training\n",
        "end_train_time = time.time()\n",
        "train_duration = end_train_time - start_train_time\n",
        "print(f\"Training Duration: {train_duration:.2f} seconds\")\n",
        "# Start time for testing\n",
        "start_test_time = time.time()\n",
        "\n",
        "# Test model\n",
        "nb_predictions = nb_cv_model.bestModel.transform(test_data)\n",
        "nb_accuracy = evaluator.evaluate(nb_predictions)\n",
        "\n",
        "# End time for testing\n",
        "end_test_time = time.time()\n",
        "test_duration = end_test_time - start_test_time\n",
        "print(f\"Testing Duration: {test_duration:.2f} seconds\")\n",
        "# Output results\n",
        "print(f\"Naive Bayes Accuracy: {nb_accuracy:.4f}\")\n",
        "\n",
        "# Output the best hyperparameters for Naive Bayes\n",
        "print(f\"Best Naive Bayes Hyperparameters: \")\n",
        "best_params = nb_cv_model.bestModel.extractParamMap()\n",
        "for param, value in best_params.items():\n",
        "    print(f\"{param.name}: {value}\")\n"
      ],
      "metadata": {
        "colab": {
          "base_uri": "https://localhost:8080/"
        },
        "id": "Ga7TTrw9eOmr",
        "outputId": "bd4ba229-3949-4e25-9998-320c77c1108e"
      },
      "execution_count": 78,
      "outputs": [
        {
          "output_type": "stream",
          "name": "stdout",
          "text": [
            "Training Duration: 50.12 seconds\n",
            "Testing Duration: 3.36 seconds\n",
            "Naive Bayes Accuracy: 0.9050\n",
            "Best Naive Bayes Hyperparameters: \n",
            "featuresCol: features\n",
            "labelCol: label\n",
            "modelType: multinomial\n",
            "predictionCol: prediction\n",
            "probabilityCol: probability\n",
            "rawPredictionCol: rawPrediction\n",
            "smoothing: 0.5\n"
          ]
        }
      ]
    },
    {
      "cell_type": "markdown",
      "source": [
        "**Defining SVM Model**\n",
        "\n",
        " This defines the Support Vector Machine (SVM) model using PySpark's LinearSVC. The model is configured with labelCol and featuresCol parameters, indicating the target and input feature columns."
      ],
      "metadata": {
        "id": "t899fRFuL49j"
      }
    },
    {
      "cell_type": "code",
      "source": [
        "svm = LinearSVC(labelCol=\"label\", featuresCol=\"features\")"
      ],
      "metadata": {
        "id": "fZQ0ZzNp2bLe"
      },
      "execution_count": 79,
      "outputs": []
    },
    {
      "cell_type": "markdown",
      "source": [
        "**Defining Hyperparameter Grid for SVM Model**\n",
        "\n",
        " This code defines the parameter grid for the SVM model, specifying two hyperparameters: maxIter (maximum number of iterations) and regParam (regularization parameter), with different values to be tested during cross-validation."
      ],
      "metadata": {
        "id": "7gVzOfrmMNTl"
      }
    },
    {
      "cell_type": "code",
      "source": [
        "paramGrid = ParamGridBuilder() \\\n",
        "    .addGrid(svm.maxIter, [50, 100]) \\\n",
        "    .addGrid(svm.regParam, [0.01, 0.1]) \\\n",
        "    .build()"
      ],
      "metadata": {
        "id": "XtZL_YQN2cOW"
      },
      "execution_count": 80,
      "outputs": []
    },
    {
      "cell_type": "markdown",
      "source": [
        "**Setting Up Cross-Validation for SVM Model**\n",
        "\n",
        "This code configures a CrossValidator for the SVM model, defining the parameter grid and using 3-fold cross-validation to tune hyperparameters"
      ],
      "metadata": {
        "id": "KQ-WVEI3M3CL"
      }
    },
    {
      "cell_type": "code",
      "source": [
        "svm_cv = CrossValidator(estimator=svm, estimatorParamMaps=paramGrid, evaluator=evaluator, numFolds=3)\n"
      ],
      "metadata": {
        "id": "Ge5zPmik2ei-"
      },
      "execution_count": 81,
      "outputs": []
    },
    {
      "cell_type": "markdown",
      "source": [
        "**Training, Testing, and Evaluating the SVM Model**\n",
        "\n",
        "This trains a SVM model using cross-validation, tests it on the test data, evaluates the accuracy, and prints the best hyperparameters. It also tracks the duration of the training and testing process, displaying the time taken in seconds along with the results."
      ],
      "metadata": {
        "id": "991FHzgpNATk"
      }
    },
    {
      "cell_type": "code",
      "source": [
        "# Start time for training\n",
        "start_train_time = time.time()\n",
        "\n",
        "# Train model\n",
        "svm_cv_model = svm_cv.fit(train_data)\n",
        "\n",
        "# End time for training\n",
        "end_train_time = time.time()\n",
        "train_duration = end_train_time - start_train_time\n",
        "print(f\"Training Duration: {train_duration:.2f} seconds\")\n",
        "# Start time for testing\n",
        "start_test_time = time.time()\n",
        "\n",
        "# Test model\n",
        "svm_predictions = svm_cv_model.bestModel.transform(test_data)\n",
        "svm_accuracy = evaluator.evaluate(svm_predictions)\n",
        "\n",
        "# End time for testing\n",
        "end_test_time = time.time()\n",
        "test_duration = end_test_time - start_test_time\n",
        "print(f\"Testing Duration: {test_duration:.2f} seconds\")\n",
        "# Output results\n",
        "print(f\"SVM Accuracy: {svm_accuracy:.4f}\")\n",
        "\n",
        "# Output the best hyperparameters for SVM\n",
        "print(f\"Best SVM Hyperparameters: \")\n",
        "best_params = svm_cv_model.bestModel.extractParamMap()\n",
        "for param, value in best_params.items():\n",
        "    print(f\"{param.name}: {value}\")\n"
      ],
      "metadata": {
        "colab": {
          "base_uri": "https://localhost:8080/"
        },
        "id": "N3MY__hBeQrB",
        "outputId": "922782c6-b9e4-4fbb-8d36-372bda665e5f"
      },
      "execution_count": 82,
      "outputs": [
        {
          "output_type": "stream",
          "name": "stdout",
          "text": [
            "Training Duration: 163.53 seconds\n",
            "Testing Duration: 8.13 seconds\n",
            "SVM Accuracy: 0.9966\n",
            "Best SVM Hyperparameters: \n",
            "aggregationDepth: 2\n",
            "featuresCol: features\n",
            "fitIntercept: True\n",
            "labelCol: label\n",
            "maxBlockSizeInMB: 0.0\n",
            "maxIter: 50\n",
            "predictionCol: prediction\n",
            "rawPredictionCol: rawPrediction\n",
            "regParam: 0.01\n",
            "standardization: True\n",
            "threshold: 0.0\n",
            "tol: 1e-06\n"
          ]
        }
      ]
    },
    {
      "cell_type": "markdown",
      "source": [
        "**Model Comparison and Evaluation: Random Forest, Decision Tree, Naive Bayes, and SVM**\n",
        "\n",
        "This analysis tests four machine learning models — Random Forest, Decision Tree, Naive Bayes, and SVM — using cross-validation and hyperparameter tuning. The models are evaluated based on accuracy, precision, recall, and F1-score. The best performing model is identified based on these metrics."
      ],
      "metadata": {
        "id": "CvlGE0kUNZ06"
      }
    },
    {
      "cell_type": "code",
      "source": [
        "# Define a function to evaluate metrics for each model\n",
        "def evaluate_model(model_name, model, test_data):\n",
        "    # Generate predictions\n",
        "    predictions = model.transform(test_data)\n",
        "\n",
        "    # Initialize evaluators for each metric\n",
        "    accuracy_evaluator = MulticlassClassificationEvaluator(labelCol=\"label\", predictionCol=\"prediction\", metricName=\"accuracy\")\n",
        "    precision_evaluator = MulticlassClassificationEvaluator(labelCol=\"label\", predictionCol=\"prediction\", metricName=\"weightedPrecision\")\n",
        "    recall_evaluator = MulticlassClassificationEvaluator(labelCol=\"label\", predictionCol=\"prediction\", metricName=\"weightedRecall\")\n",
        "    f1_evaluator = MulticlassClassificationEvaluator(labelCol=\"label\", predictionCol=\"prediction\", metricName=\"f1\")\n",
        "\n",
        "    # Calculate metrics\n",
        "    accuracy = accuracy_evaluator.evaluate(predictions)\n",
        "    precision = precision_evaluator.evaluate(predictions)\n",
        "    recall = recall_evaluator.evaluate(predictions)\n",
        "    f1 = f1_evaluator.evaluate(predictions)\n",
        "\n",
        "    # Return results as a dictionary\n",
        "    return {\n",
        "        \"Model\": model_name,\n",
        "        \"Accuracy\": accuracy,\n",
        "        \"Precision\": precision,\n",
        "        \"Recall\": recall,\n",
        "        \"F1-Score\": f1,\n",
        "    }\n",
        "\n",
        "# Evaluate all models\n",
        "results = []\n",
        "\n",
        "# Random Forest\n",
        "results.append(evaluate_model(\"Random Forest\", rf_cv_model.bestModel, test_data))\n",
        "\n",
        "# Decision Tree\n",
        "results.append(evaluate_model(\"Decision Tree\", dt_cv_model.bestModel, test_data))\n",
        "\n",
        "# Naive Bayes\n",
        "results.append(evaluate_model(\"Naive Bayes\", nb_cv_model.bestModel, test_data))\n",
        "\n",
        "# SVM\n",
        "results.append(evaluate_model(\"SVM\", svm_cv_model.bestModel, test_data))\n",
        "\n",
        "# Display results in a sorted order based on F1-Score\n",
        "results_sorted = sorted(results, key=lambda x: x[\"F1-Score\"], reverse=True)\n",
        "\n",
        "# Print results\n",
        "print(\"\\nComparison of Models:\")\n",
        "for result in results_sorted:\n",
        "    print(f\"Model: {result['Model']}\")\n",
        "    print(f\"  Accuracy: {result['Accuracy']:.4f}\")\n",
        "    print(f\"  Precision: {result['Precision']:.4f}\")\n",
        "    print(f\"  Recall: {result['Recall']:.4f}\")\n",
        "    print(f\"  F1-Score: {result['F1-Score']:.4f}\")\n",
        "    print()\n",
        "\n",
        "# Identify the best model\n",
        "best_model = results_sorted[0]\n",
        "print(f\"Best Model: {best_model['Model']}\")\n",
        "print(f\"  Accuracy: {best_model['Accuracy']:.4f}\")\n",
        "print(f\"  Precision: {best_model['Precision']:.4f}\")\n",
        "print(f\"  Recall: {best_model['Recall']:.4f}\")\n",
        "print(f\"  F1-Score: {best_model['F1-Score']:.4f}\")\n"
      ],
      "metadata": {
        "colab": {
          "base_uri": "https://localhost:8080/"
        },
        "id": "eFvvWLRcjqpM",
        "outputId": "3bd990c2-5546-47cf-dfba-5b1785358481"
      },
      "execution_count": 83,
      "outputs": [
        {
          "output_type": "stream",
          "name": "stdout",
          "text": [
            "\n",
            "Comparison of Models:\n",
            "Model: Random Forest\n",
            "  Accuracy: 1.0000\n",
            "  Precision: 1.0000\n",
            "  Recall: 1.0000\n",
            "  F1-Score: 1.0000\n",
            "\n",
            "Model: Decision Tree\n",
            "  Accuracy: 1.0000\n",
            "  Precision: 1.0000\n",
            "  Recall: 1.0000\n",
            "  F1-Score: 1.0000\n",
            "\n",
            "Model: SVM\n",
            "  Accuracy: 0.9966\n",
            "  Precision: 0.9966\n",
            "  Recall: 0.9966\n",
            "  F1-Score: 0.9966\n",
            "\n",
            "Model: Naive Bayes\n",
            "  Accuracy: 0.9050\n",
            "  Precision: 0.9049\n",
            "  Recall: 0.9050\n",
            "  F1-Score: 0.9049\n",
            "\n",
            "Best Model: Random Forest\n",
            "  Accuracy: 1.0000\n",
            "  Precision: 1.0000\n",
            "  Recall: 1.0000\n",
            "  F1-Score: 1.0000\n"
          ]
        }
      ]
    },
    {
      "cell_type": "markdown",
      "source": [
        "**Confusion Matrix Comparison for Phishing Detection Models**\n",
        "\n",
        "This calculates and visualizes the confusion matrices for four classification models (Random Forest, Decision Tree, Naive Bayes, and SVM) to evaluate their performance in distinguishing between phishing (0) and legitimate (1) URLs."
      ],
      "metadata": {
        "id": "6Wq-MHf7N7cU"
      }
    },
    {
      "cell_type": "code",
      "source": [
        "# Function to calculate confusion matrix\n",
        "def get_confusion_matrix(model, test_data):\n",
        "    predictions = model.transform(test_data)\n",
        "    # Ensure the prediction column is in integer format\n",
        "    confusion_matrix = predictions.groupBy(\"label\", \"prediction\").count().toPandas()\n",
        "\n",
        "    # Labels for confusion matrix (0 = Phishing, 1 = Legitimate)\n",
        "    labels = [0, 1]\n",
        "\n",
        "    # Initialize the matrix with zeros\n",
        "    matrix = np.zeros((len(labels), len(labels)), dtype=int)\n",
        "\n",
        "    # Populate the confusion matrix\n",
        "    for _, row in confusion_matrix.iterrows():\n",
        "        actual = int(row[\"label\"])  # Convert label to integer\n",
        "        predicted = int(row[\"prediction\"])  # Convert prediction to integer\n",
        "        matrix[actual, predicted] = row[\"count\"]\n",
        "\n",
        "    return matrix, labels\n",
        "\n",
        "# Function to plot a confusion matrix heatmap\n",
        "def plot_confusion_matrix(matrix, labels, model_name, ax):\n",
        "    sns.heatmap(matrix, annot=True, fmt='d', cmap=\"Blues\", xticklabels=labels, yticklabels=labels, ax=ax)\n",
        "    ax.set_title(f\"Confusion Matrix for {model_name}\")\n",
        "    ax.set_xlabel(\"Predicted\")\n",
        "    ax.set_ylabel(\"Actual\")\n",
        "\n",
        "fig, axes = plt.subplots(2, 2, figsize=(10, 7))\n",
        "\n",
        "# List to store confusion matrices for each model\n",
        "confusion_matrices = []\n",
        "\n",
        "# Generate confusion matrices for each model\n",
        "models = [\n",
        "    (\"Random Forest\", rf_cv_model.bestModel),\n",
        "    (\"Decision Tree\", dt_cv_model.bestModel),\n",
        "    (\"Naive Bayes\", nb_cv_model.bestModel),\n",
        "    (\"SVM\", svm_cv_model.bestModel),\n",
        "]\n",
        "\n",
        "# Plot confusion matrices for each model\n",
        "for idx, (model_name, model) in enumerate(models):\n",
        "    matrix, labels = get_confusion_matrix(model, test_data)\n",
        "    row = idx // 2  # Determine row (0 or 1)\n",
        "    col = idx % 2   # Determine column (0 or 1)\n",
        "    plot_confusion_matrix(matrix, labels, model_name, axes[row, col])\n",
        "\n",
        "# Adjust layout for better spacing\n",
        "plt.tight_layout()\n",
        "plt.show()\n"
      ],
      "metadata": {
        "colab": {
          "base_uri": "https://localhost:8080/",
          "height": 707
        },
        "id": "2sZp3aKPFxC5",
        "outputId": "1a9967f6-83de-454f-aac1-d79233a37b2d"
      },
      "execution_count": 84,
      "outputs": [
        {
          "output_type": "display_data",
          "data": {
            "text/plain": [
              "<Figure size 1000x700 with 8 Axes>"
            ],
            "image/png": "[encoded data removed]"
          },
          "metadata": {}
        }
      ]
    },
    {
      "cell_type": "markdown",
      "source": [
        "**Displaying Feature Importances from Best Model (Random Forest Model)**\n",
        "\n",
        "This extracts and displays the feature importances from a trained Random Forest model, sorting them in descending order to highlight the most influential features in the prediction."
      ],
      "metadata": {
        "id": "DqmVb_L7ONzx"
      }
    },
    {
      "cell_type": "code",
      "source": [
        "# Access feature importances from the trained Random Forest model\n",
        "importances = rf_cv_model.bestModel.featureImportances.toArray()\n",
        "\n",
        "# Map features to their importance scores\n",
        "feature_importances = [(feature, importance) for feature, importance in zip(feature_columns, importances)]\n",
        "\n",
        "# Sort and display feature importances\n",
        "sorted_features = sorted(feature_importances, key=lambda x: x[1], reverse=True)\n",
        "for feature, importance in sorted_features:\n",
        "    print(f\"{feature}: {importance:.4f}\")\n"
      ],
      "metadata": {
        "colab": {
          "base_uri": "https://localhost:8080/"
        },
        "id": "6VkMMb24mCUL",
        "outputId": "630cc4d1-e100-42b9-d5f2-1ae198a8f315"
      },
      "execution_count": 85,
      "outputs": [
        {
          "output_type": "stream",
          "name": "stdout",
          "text": [
            "URLSimilarityIndex: 0.5120\n",
            "NoOfExternalRef: 0.1811\n",
            "NoOfSelfRef: 0.1396\n",
            "LineOfCode: 0.1091\n",
            "NoOfImage: 0.0345\n",
            "NoOfJS: 0.0154\n",
            "HasSocialNet: 0.0056\n",
            "HasCopyrightInfo: 0.0014\n",
            "NoOfCSS: 0.0010\n",
            "HasDescription: 0.0004\n"
          ]
        }
      ]
    },
    {
      "cell_type": "markdown",
      "source": [
        "**Saving the Best Random Forest Model in PySpark**\n",
        "\n",
        "This code saves the best model obtained from cross-validation (Random Forest) to a specified location in the local file system or cloud storage. The model is saved in a format compatible with PySpark, allowing for future use or deployment without the need to retrain."
      ],
      "metadata": {
        "id": "F6Rp0i7WSOrT"
      }
    },
    {
      "cell_type": "code",
      "source": [
        "best_model = rf_cv_model.bestModel\n",
        "\n",
        "# Save the model to the local file system\n",
        "best_model.save(\"/content/drive/MyDrive/DESProject/best_random_forest_model.model\")"
      ],
      "metadata": {
        "id": "8rXtiny_RXyl"
      },
      "execution_count": 53,
      "outputs": []
    },
    {
      "cell_type": "markdown",
      "source": [
        "**To load the saved Random Forest model from PySpark (if required)**\n"
      ],
      "metadata": {
        "id": "OWuloLD2SeRv"
      }
    },
    {
      "cell_type": "code",
      "source": [
        "loaded_model = RandomForestClassificationModel.load(\"/content/drive/MyDrive/DESProject/best_random_forest_model.model\")"
      ],
      "metadata": {
        "id": "7dnc9rM3RtsN"
      },
      "execution_count": null,
      "outputs": []
    }
  ]
}